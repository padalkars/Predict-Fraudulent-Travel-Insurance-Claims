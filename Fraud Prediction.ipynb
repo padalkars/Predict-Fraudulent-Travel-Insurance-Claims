{
 "cells": [
  {
   "cell_type": "markdown",
   "metadata": {},
   "source": [
    "## Assignment Details\n",
    "\n",
    "A travel insurance is a policy purchased by travelers to cover any loss arising while travelling including but not limited to baggage claim, delay in flight, accident suffered etc. Instead of paying out of pocket for travel related accidents, people pay annual premiums to a travel insurance company; the company then pays all or most of the costs associated with the travel accident or any other loss suffered. Fraud Detection is one the important use cases of Data science in Insurance Industry. Develop a predictive model that predicts if a travel insurance claim is fraudulent or not. This task is designed to test your ability to understand and evaluate business use cases from given data source along with the scripting skills, your knowledge of data science techniques, your ability to work effectively, efficiently, and independently within a commercial setting. \n",
    " \n",
    "\n",
    "·         Deliverables:\n",
    "\n",
    "o   Jupyter notebook of your solution including EDA, feature engineering, any assumptions made, model building and hyper parameter tuning\n",
    "\n",
    "o   Presentation/pdf for your solution.\n"
   ]
  },
  {
   "cell_type": "code",
   "execution_count": 1,
   "metadata": {},
   "outputs": [],
   "source": [
    "#Import the necessary packages\n",
    "import pandas as pd\n",
    "import numpy as np\n",
    "\n",
    "from collections import Counter\n",
    "\n",
    "import os\n",
    "import sys\n",
    "\n",
    "import matplotlib.pyplot as plt\n",
    "\n",
    "from sklearn.linear_model import LogisticRegression as LR\n",
    "from sklearn.tree import DecisionTreeClassifier as DTC\n",
    "from sklearn.ensemble import RandomForestClassifier as RFC\n",
    "from sklearn.metrics import confusion_matrix as CM, roc_curve, roc_auc_score\n",
    "from sklearn import svm\n",
    "\n",
    "#Hyper Parameter Tuning\n",
    "from sklearn.model_selection import GridSearchCV as GCV\n",
    "from sklearn.model_selection import RandomizedSearchCV as RSCV\n",
    "\n",
    "#Import utility functions\n",
    "import UtilityFunctions as UF\n",
    "import WOE_IV as woe"
   ]
  },
  {
   "cell_type": "code",
   "execution_count": 2,
   "metadata": {},
   "outputs": [
    {
     "data": {
      "text/html": [
       "<div>\n",
       "<style scoped>\n",
       "    .dataframe tbody tr th:only-of-type {\n",
       "        vertical-align: middle;\n",
       "    }\n",
       "\n",
       "    .dataframe tbody tr th {\n",
       "        vertical-align: top;\n",
       "    }\n",
       "\n",
       "    .dataframe thead th {\n",
       "        text-align: right;\n",
       "    }\n",
       "</style>\n",
       "<table border=\"1\" class=\"dataframe\">\n",
       "  <thead>\n",
       "    <tr style=\"text-align: right;\">\n",
       "      <th></th>\n",
       "      <th>ID</th>\n",
       "      <th>Agency</th>\n",
       "      <th>Agency Type</th>\n",
       "      <th>Distribution Channel</th>\n",
       "      <th>Product Name</th>\n",
       "      <th>Duration</th>\n",
       "      <th>Destination</th>\n",
       "      <th>Net Sales</th>\n",
       "      <th>Commision (in value)</th>\n",
       "      <th>Age</th>\n",
       "      <th>Claim</th>\n",
       "    </tr>\n",
       "  </thead>\n",
       "  <tbody>\n",
       "    <tr>\n",
       "      <th>0</th>\n",
       "      <td>2010</td>\n",
       "      <td>EPX</td>\n",
       "      <td>Travel Agency</td>\n",
       "      <td>Online</td>\n",
       "      <td>Cancellation Plan</td>\n",
       "      <td>61</td>\n",
       "      <td>PHILIPPINES</td>\n",
       "      <td>12.0</td>\n",
       "      <td>0.00</td>\n",
       "      <td>41</td>\n",
       "      <td>0</td>\n",
       "    </tr>\n",
       "    <tr>\n",
       "      <th>1</th>\n",
       "      <td>4245</td>\n",
       "      <td>EPX</td>\n",
       "      <td>Travel Agency</td>\n",
       "      <td>Online</td>\n",
       "      <td>Cancellation Plan</td>\n",
       "      <td>4</td>\n",
       "      <td>MALAYSIA</td>\n",
       "      <td>17.0</td>\n",
       "      <td>0.00</td>\n",
       "      <td>35</td>\n",
       "      <td>0</td>\n",
       "    </tr>\n",
       "    <tr>\n",
       "      <th>2</th>\n",
       "      <td>9251</td>\n",
       "      <td>CWT</td>\n",
       "      <td>Travel Agency</td>\n",
       "      <td>Online</td>\n",
       "      <td>Rental Vehicle Excess Insurance</td>\n",
       "      <td>26</td>\n",
       "      <td>THAILAND</td>\n",
       "      <td>19.8</td>\n",
       "      <td>11.88</td>\n",
       "      <td>47</td>\n",
       "      <td>0</td>\n",
       "    </tr>\n",
       "    <tr>\n",
       "      <th>3</th>\n",
       "      <td>4754</td>\n",
       "      <td>EPX</td>\n",
       "      <td>Travel Agency</td>\n",
       "      <td>Online</td>\n",
       "      <td>2 way Comprehensive Plan</td>\n",
       "      <td>15</td>\n",
       "      <td>HONG KONG</td>\n",
       "      <td>27.0</td>\n",
       "      <td>0.00</td>\n",
       "      <td>48</td>\n",
       "      <td>0</td>\n",
       "    </tr>\n",
       "    <tr>\n",
       "      <th>4</th>\n",
       "      <td>8840</td>\n",
       "      <td>EPX</td>\n",
       "      <td>Travel Agency</td>\n",
       "      <td>Online</td>\n",
       "      <td>2 way Comprehensive Plan</td>\n",
       "      <td>15</td>\n",
       "      <td>MALAYSIA</td>\n",
       "      <td>37.0</td>\n",
       "      <td>0.00</td>\n",
       "      <td>36</td>\n",
       "      <td>0</td>\n",
       "    </tr>\n",
       "  </tbody>\n",
       "</table>\n",
       "</div>"
      ],
      "text/plain": [
       "     ID Agency    Agency Type Distribution Channel  \\\n",
       "0  2010    EPX  Travel Agency               Online   \n",
       "1  4245    EPX  Travel Agency               Online   \n",
       "2  9251    CWT  Travel Agency               Online   \n",
       "3  4754    EPX  Travel Agency               Online   \n",
       "4  8840    EPX  Travel Agency               Online   \n",
       "\n",
       "                      Product Name  Duration  Destination  Net Sales  \\\n",
       "0                Cancellation Plan        61  PHILIPPINES       12.0   \n",
       "1                Cancellation Plan         4     MALAYSIA       17.0   \n",
       "2  Rental Vehicle Excess Insurance        26     THAILAND       19.8   \n",
       "3         2 way Comprehensive Plan        15    HONG KONG       27.0   \n",
       "4         2 way Comprehensive Plan        15     MALAYSIA       37.0   \n",
       "\n",
       "   Commision (in value)  Age  Claim  \n",
       "0                  0.00   41      0  \n",
       "1                  0.00   35      0  \n",
       "2                 11.88   47      0  \n",
       "3                  0.00   48      0  \n",
       "4                  0.00   36      0  "
      ]
     },
     "execution_count": 2,
     "metadata": {},
     "output_type": "execute_result"
    }
   ],
   "source": [
    "#Read the train and test data\n",
    "train_data = pd.read_csv(\"train.csv\")\n",
    "test_data = pd.read_csv(\"test.csv\")\n",
    "\n",
    "train_data.head()"
   ]
  },
  {
   "cell_type": "code",
   "execution_count": 3,
   "metadata": {},
   "outputs": [
    {
     "name": "stdout",
     "output_type": "stream",
     "text": [
      "Train Data Dimensions:- (52310, 11)\n",
      "Test Data Dimensions:- (22421, 10)\n"
     ]
    }
   ],
   "source": [
    "#Dimensions of the data\n",
    "print(\"Train Data Dimensions:- {}\" .format(train_data.shape))\n",
    "print(\"Test Data Dimensions:- {}\" .format(test_data.shape))"
   ]
  },
  {
   "cell_type": "code",
   "execution_count": 4,
   "metadata": {},
   "outputs": [
    {
     "name": "stdout",
     "output_type": "stream",
     "text": [
      "Train Data Target Distribution:- \n",
      "   Categories  Counts   Counts_%\n",
      "0           0   43590  83.330147\n",
      "1           1    8720  16.669853\n",
      "\n"
     ]
    }
   ],
   "source": [
    "#Event rate of the Target\n",
    "def get_frequency_dist(cat_var, data=train_data):\n",
    "    count = dict(Counter(data[cat_var]))\n",
    "    \n",
    "    count_df = pd.DataFrame({'Categories': list(count.keys()),\\\n",
    "                             'Counts': count.values()},\\\n",
    "                           columns=['Categories', 'Counts'])\n",
    "    \n",
    "    #Sort in descending order of count\n",
    "    count_df = count_df.sort_values(by='Counts', ascending=False)\n",
    "    \n",
    "    #Obtain the % Counts\n",
    "    total_count = sum(count_df['Counts'])\n",
    "    count_df['Counts_%'] = count_df['Counts']*100/total_count #Broadcasting\n",
    "    \n",
    "    return count_df\n",
    "\n",
    "#Target Event rate of train data\n",
    "print(\"Train Data Target Distribution:- \\n{}\\n\" .format(get_frequency_dist('Claim')))\n",
    "\n",
    "#print(\"Test Data Target Distribution:- \\n{}\" .format(get_frequency_dist('Claim', test_data)))"
   ]
  },
  {
   "cell_type": "code",
   "execution_count": 5,
   "metadata": {},
   "outputs": [
    {
     "data": {
      "text/plain": [
       "False"
      ]
     },
     "execution_count": 5,
     "metadata": {},
     "output_type": "execute_result"
    }
   ],
   "source": [
    "#Check whether all the IDs are unique\n",
    "len(set(train_data['ID'])) == train_data['ID'].shape[0]"
   ]
  },
  {
   "cell_type": "code",
   "execution_count": 6,
   "metadata": {
    "scrolled": false
   },
   "outputs": [
    {
     "data": {
      "text/html": [
       "<div>\n",
       "<style scoped>\n",
       "    .dataframe tbody tr th:only-of-type {\n",
       "        vertical-align: middle;\n",
       "    }\n",
       "\n",
       "    .dataframe tbody tr th {\n",
       "        vertical-align: top;\n",
       "    }\n",
       "\n",
       "    .dataframe thead th {\n",
       "        text-align: right;\n",
       "    }\n",
       "</style>\n",
       "<table border=\"1\" class=\"dataframe\">\n",
       "  <thead>\n",
       "    <tr style=\"text-align: right;\">\n",
       "      <th></th>\n",
       "      <th>Features</th>\n",
       "      <th>Missing Value Count</th>\n",
       "      <th>Missing Value Percentage</th>\n",
       "      <th>Data Types</th>\n",
       "      <th>count</th>\n",
       "      <th>mean</th>\n",
       "      <th>std</th>\n",
       "      <th>min</th>\n",
       "      <th>25%</th>\n",
       "      <th>50%</th>\n",
       "      <th>75%</th>\n",
       "      <th>max</th>\n",
       "      <th>Unique Categories</th>\n",
       "    </tr>\n",
       "  </thead>\n",
       "  <tbody>\n",
       "    <tr>\n",
       "      <th>0</th>\n",
       "      <td>ID</td>\n",
       "      <td>0</td>\n",
       "      <td>0.0</td>\n",
       "      <td>Integer</td>\n",
       "      <td>52310.0</td>\n",
       "      <td>6005.745804</td>\n",
       "      <td>2306.450475</td>\n",
       "      <td>2000.0</td>\n",
       "      <td>4015.0</td>\n",
       "      <td>6002.0</td>\n",
       "      <td>8004.00</td>\n",
       "      <td>10000.00</td>\n",
       "      <td>NaN</td>\n",
       "    </tr>\n",
       "    <tr>\n",
       "      <th>1</th>\n",
       "      <td>Agency</td>\n",
       "      <td>0</td>\n",
       "      <td>0.0</td>\n",
       "      <td>Categorical</td>\n",
       "      <td>NaN</td>\n",
       "      <td>NaN</td>\n",
       "      <td>NaN</td>\n",
       "      <td>NaN</td>\n",
       "      <td>NaN</td>\n",
       "      <td>NaN</td>\n",
       "      <td>NaN</td>\n",
       "      <td>NaN</td>\n",
       "      <td>16.0</td>\n",
       "    </tr>\n",
       "    <tr>\n",
       "      <th>2</th>\n",
       "      <td>Agency Type</td>\n",
       "      <td>0</td>\n",
       "      <td>0.0</td>\n",
       "      <td>Categorical</td>\n",
       "      <td>NaN</td>\n",
       "      <td>NaN</td>\n",
       "      <td>NaN</td>\n",
       "      <td>NaN</td>\n",
       "      <td>NaN</td>\n",
       "      <td>NaN</td>\n",
       "      <td>NaN</td>\n",
       "      <td>NaN</td>\n",
       "      <td>2.0</td>\n",
       "    </tr>\n",
       "    <tr>\n",
       "      <th>3</th>\n",
       "      <td>Distribution Channel</td>\n",
       "      <td>0</td>\n",
       "      <td>0.0</td>\n",
       "      <td>Categorical</td>\n",
       "      <td>NaN</td>\n",
       "      <td>NaN</td>\n",
       "      <td>NaN</td>\n",
       "      <td>NaN</td>\n",
       "      <td>NaN</td>\n",
       "      <td>NaN</td>\n",
       "      <td>NaN</td>\n",
       "      <td>NaN</td>\n",
       "      <td>2.0</td>\n",
       "    </tr>\n",
       "    <tr>\n",
       "      <th>4</th>\n",
       "      <td>Product Name</td>\n",
       "      <td>0</td>\n",
       "      <td>0.0</td>\n",
       "      <td>Categorical</td>\n",
       "      <td>NaN</td>\n",
       "      <td>NaN</td>\n",
       "      <td>NaN</td>\n",
       "      <td>NaN</td>\n",
       "      <td>NaN</td>\n",
       "      <td>NaN</td>\n",
       "      <td>NaN</td>\n",
       "      <td>NaN</td>\n",
       "      <td>25.0</td>\n",
       "    </tr>\n",
       "    <tr>\n",
       "      <th>5</th>\n",
       "      <td>Duration</td>\n",
       "      <td>0</td>\n",
       "      <td>0.0</td>\n",
       "      <td>Integer</td>\n",
       "      <td>52310.0</td>\n",
       "      <td>58.256108</td>\n",
       "      <td>109.138708</td>\n",
       "      <td>-2.0</td>\n",
       "      <td>10.0</td>\n",
       "      <td>24.0</td>\n",
       "      <td>57.00</td>\n",
       "      <td>4881.00</td>\n",
       "      <td>NaN</td>\n",
       "    </tr>\n",
       "    <tr>\n",
       "      <th>6</th>\n",
       "      <td>Destination</td>\n",
       "      <td>0</td>\n",
       "      <td>0.0</td>\n",
       "      <td>Categorical</td>\n",
       "      <td>NaN</td>\n",
       "      <td>NaN</td>\n",
       "      <td>NaN</td>\n",
       "      <td>NaN</td>\n",
       "      <td>NaN</td>\n",
       "      <td>NaN</td>\n",
       "      <td>NaN</td>\n",
       "      <td>NaN</td>\n",
       "      <td>97.0</td>\n",
       "    </tr>\n",
       "    <tr>\n",
       "      <th>7</th>\n",
       "      <td>Net Sales</td>\n",
       "      <td>0</td>\n",
       "      <td>0.0</td>\n",
       "      <td>Float</td>\n",
       "      <td>52310.0</td>\n",
       "      <td>48.554673</td>\n",
       "      <td>60.198589</td>\n",
       "      <td>-389.0</td>\n",
       "      <td>19.8</td>\n",
       "      <td>29.5</td>\n",
       "      <td>55.00</td>\n",
       "      <td>682.00</td>\n",
       "      <td>NaN</td>\n",
       "    </tr>\n",
       "    <tr>\n",
       "      <th>8</th>\n",
       "      <td>Commision (in value)</td>\n",
       "      <td>0</td>\n",
       "      <td>0.0</td>\n",
       "      <td>Float</td>\n",
       "      <td>52310.0</td>\n",
       "      <td>12.219963</td>\n",
       "      <td>22.847645</td>\n",
       "      <td>0.0</td>\n",
       "      <td>0.0</td>\n",
       "      <td>0.0</td>\n",
       "      <td>13.38</td>\n",
       "      <td>262.76</td>\n",
       "      <td>NaN</td>\n",
       "    </tr>\n",
       "    <tr>\n",
       "      <th>9</th>\n",
       "      <td>Age</td>\n",
       "      <td>0</td>\n",
       "      <td>0.0</td>\n",
       "      <td>Integer</td>\n",
       "      <td>52310.0</td>\n",
       "      <td>39.555725</td>\n",
       "      <td>13.762473</td>\n",
       "      <td>0.0</td>\n",
       "      <td>33.0</td>\n",
       "      <td>36.0</td>\n",
       "      <td>43.00</td>\n",
       "      <td>118.00</td>\n",
       "      <td>NaN</td>\n",
       "    </tr>\n",
       "    <tr>\n",
       "      <th>10</th>\n",
       "      <td>Claim</td>\n",
       "      <td>0</td>\n",
       "      <td>0.0</td>\n",
       "      <td>Integer</td>\n",
       "      <td>52310.0</td>\n",
       "      <td>0.166699</td>\n",
       "      <td>0.372710</td>\n",
       "      <td>0.0</td>\n",
       "      <td>0.0</td>\n",
       "      <td>0.0</td>\n",
       "      <td>0.00</td>\n",
       "      <td>1.00</td>\n",
       "      <td>NaN</td>\n",
       "    </tr>\n",
       "  </tbody>\n",
       "</table>\n",
       "</div>"
      ],
      "text/plain": [
       "                Features  Missing Value Count  Missing Value Percentage  \\\n",
       "0                     ID                    0                       0.0   \n",
       "1                 Agency                    0                       0.0   \n",
       "2            Agency Type                    0                       0.0   \n",
       "3   Distribution Channel                    0                       0.0   \n",
       "4           Product Name                    0                       0.0   \n",
       "5               Duration                    0                       0.0   \n",
       "6            Destination                    0                       0.0   \n",
       "7              Net Sales                    0                       0.0   \n",
       "8   Commision (in value)                    0                       0.0   \n",
       "9                    Age                    0                       0.0   \n",
       "10                 Claim                    0                       0.0   \n",
       "\n",
       "     Data Types    count         mean          std     min     25%     50%  \\\n",
       "0       Integer  52310.0  6005.745804  2306.450475  2000.0  4015.0  6002.0   \n",
       "1   Categorical      NaN          NaN          NaN     NaN     NaN     NaN   \n",
       "2   Categorical      NaN          NaN          NaN     NaN     NaN     NaN   \n",
       "3   Categorical      NaN          NaN          NaN     NaN     NaN     NaN   \n",
       "4   Categorical      NaN          NaN          NaN     NaN     NaN     NaN   \n",
       "5       Integer  52310.0    58.256108   109.138708    -2.0    10.0    24.0   \n",
       "6   Categorical      NaN          NaN          NaN     NaN     NaN     NaN   \n",
       "7         Float  52310.0    48.554673    60.198589  -389.0    19.8    29.5   \n",
       "8         Float  52310.0    12.219963    22.847645     0.0     0.0     0.0   \n",
       "9       Integer  52310.0    39.555725    13.762473     0.0    33.0    36.0   \n",
       "10      Integer  52310.0     0.166699     0.372710     0.0     0.0     0.0   \n",
       "\n",
       "        75%       max  Unique Categories  \n",
       "0   8004.00  10000.00                NaN  \n",
       "1       NaN       NaN               16.0  \n",
       "2       NaN       NaN                2.0  \n",
       "3       NaN       NaN                2.0  \n",
       "4       NaN       NaN               25.0  \n",
       "5     57.00   4881.00                NaN  \n",
       "6       NaN       NaN               97.0  \n",
       "7     55.00    682.00                NaN  \n",
       "8     13.38    262.76                NaN  \n",
       "9     43.00    118.00                NaN  \n",
       "10     0.00      1.00                NaN  "
      ]
     },
     "execution_count": 6,
     "metadata": {},
     "output_type": "execute_result"
    }
   ],
   "source": [
    "#Descriptive Statistics\n",
    "#Get the descriptive statistics of the data\n",
    "stats_obj_train = UF.GetStats(train_data)\n",
    "\n",
    "data_stats_train = stats_obj_train.driver()\n",
    "\n",
    "#Write the statistics to a file\n",
    "data_stats_train.to_csv(\"train_data_stats.csv\")\n",
    "\n",
    "data_stats_train"
   ]
  },
  {
   "cell_type": "code",
   "execution_count": 7,
   "metadata": {},
   "outputs": [
    {
     "data": {
      "text/html": [
       "<div>\n",
       "<style scoped>\n",
       "    .dataframe tbody tr th:only-of-type {\n",
       "        vertical-align: middle;\n",
       "    }\n",
       "\n",
       "    .dataframe tbody tr th {\n",
       "        vertical-align: top;\n",
       "    }\n",
       "\n",
       "    .dataframe thead th {\n",
       "        text-align: right;\n",
       "    }\n",
       "</style>\n",
       "<table border=\"1\" class=\"dataframe\">\n",
       "  <thead>\n",
       "    <tr style=\"text-align: right;\">\n",
       "      <th></th>\n",
       "      <th>Features</th>\n",
       "      <th>Missing Value Count</th>\n",
       "      <th>Missing Value Percentage</th>\n",
       "      <th>Data Types</th>\n",
       "      <th>count</th>\n",
       "      <th>mean</th>\n",
       "      <th>std</th>\n",
       "      <th>min</th>\n",
       "      <th>25%</th>\n",
       "      <th>50%</th>\n",
       "      <th>75%</th>\n",
       "      <th>max</th>\n",
       "      <th>Unique Categories</th>\n",
       "    </tr>\n",
       "  </thead>\n",
       "  <tbody>\n",
       "    <tr>\n",
       "      <th>0</th>\n",
       "      <td>ID</td>\n",
       "      <td>0</td>\n",
       "      <td>0.0</td>\n",
       "      <td>Integer</td>\n",
       "      <td>22421.0</td>\n",
       "      <td>15499.196646</td>\n",
       "      <td>2606.751171</td>\n",
       "      <td>11000.0</td>\n",
       "      <td>13236.0</td>\n",
       "      <td>15515.000000</td>\n",
       "      <td>17762.00</td>\n",
       "      <td>20000.0</td>\n",
       "      <td>NaN</td>\n",
       "    </tr>\n",
       "    <tr>\n",
       "      <th>1</th>\n",
       "      <td>Agency</td>\n",
       "      <td>0</td>\n",
       "      <td>0.0</td>\n",
       "      <td>Categorical</td>\n",
       "      <td>NaN</td>\n",
       "      <td>NaN</td>\n",
       "      <td>NaN</td>\n",
       "      <td>NaN</td>\n",
       "      <td>NaN</td>\n",
       "      <td>NaN</td>\n",
       "      <td>NaN</td>\n",
       "      <td>NaN</td>\n",
       "      <td>16.0</td>\n",
       "    </tr>\n",
       "    <tr>\n",
       "      <th>2</th>\n",
       "      <td>Agency Type</td>\n",
       "      <td>0</td>\n",
       "      <td>0.0</td>\n",
       "      <td>Categorical</td>\n",
       "      <td>NaN</td>\n",
       "      <td>NaN</td>\n",
       "      <td>NaN</td>\n",
       "      <td>NaN</td>\n",
       "      <td>NaN</td>\n",
       "      <td>NaN</td>\n",
       "      <td>NaN</td>\n",
       "      <td>NaN</td>\n",
       "      <td>2.0</td>\n",
       "    </tr>\n",
       "    <tr>\n",
       "      <th>3</th>\n",
       "      <td>Distribution Channel</td>\n",
       "      <td>0</td>\n",
       "      <td>0.0</td>\n",
       "      <td>Categorical</td>\n",
       "      <td>NaN</td>\n",
       "      <td>NaN</td>\n",
       "      <td>NaN</td>\n",
       "      <td>NaN</td>\n",
       "      <td>NaN</td>\n",
       "      <td>NaN</td>\n",
       "      <td>NaN</td>\n",
       "      <td>NaN</td>\n",
       "      <td>2.0</td>\n",
       "    </tr>\n",
       "    <tr>\n",
       "      <th>4</th>\n",
       "      <td>Product Name</td>\n",
       "      <td>0</td>\n",
       "      <td>0.0</td>\n",
       "      <td>Categorical</td>\n",
       "      <td>NaN</td>\n",
       "      <td>NaN</td>\n",
       "      <td>NaN</td>\n",
       "      <td>NaN</td>\n",
       "      <td>NaN</td>\n",
       "      <td>NaN</td>\n",
       "      <td>NaN</td>\n",
       "      <td>NaN</td>\n",
       "      <td>25.0</td>\n",
       "    </tr>\n",
       "    <tr>\n",
       "      <th>5</th>\n",
       "      <td>Duration</td>\n",
       "      <td>0</td>\n",
       "      <td>0.0</td>\n",
       "      <td>Integer</td>\n",
       "      <td>22421.0</td>\n",
       "      <td>59.100665</td>\n",
       "      <td>114.819397</td>\n",
       "      <td>-1.0</td>\n",
       "      <td>10.0</td>\n",
       "      <td>24.000000</td>\n",
       "      <td>58.00</td>\n",
       "      <td>4857.0</td>\n",
       "      <td>NaN</td>\n",
       "    </tr>\n",
       "    <tr>\n",
       "      <th>6</th>\n",
       "      <td>Destination</td>\n",
       "      <td>0</td>\n",
       "      <td>0.0</td>\n",
       "      <td>Categorical</td>\n",
       "      <td>NaN</td>\n",
       "      <td>NaN</td>\n",
       "      <td>NaN</td>\n",
       "      <td>NaN</td>\n",
       "      <td>NaN</td>\n",
       "      <td>NaN</td>\n",
       "      <td>NaN</td>\n",
       "      <td>NaN</td>\n",
       "      <td>97.0</td>\n",
       "    </tr>\n",
       "    <tr>\n",
       "      <th>7</th>\n",
       "      <td>Net Sales</td>\n",
       "      <td>0</td>\n",
       "      <td>0.0</td>\n",
       "      <td>Float</td>\n",
       "      <td>22421.0</td>\n",
       "      <td>49.446070</td>\n",
       "      <td>61.794609</td>\n",
       "      <td>-297.0</td>\n",
       "      <td>19.8</td>\n",
       "      <td>29.518868</td>\n",
       "      <td>56.00</td>\n",
       "      <td>810.0</td>\n",
       "      <td>NaN</td>\n",
       "    </tr>\n",
       "    <tr>\n",
       "      <th>8</th>\n",
       "      <td>Commision (in value)</td>\n",
       "      <td>0</td>\n",
       "      <td>0.0</td>\n",
       "      <td>Float</td>\n",
       "      <td>22421.0</td>\n",
       "      <td>12.316924</td>\n",
       "      <td>22.957306</td>\n",
       "      <td>0.0</td>\n",
       "      <td>0.0</td>\n",
       "      <td>0.000000</td>\n",
       "      <td>13.63</td>\n",
       "      <td>283.5</td>\n",
       "      <td>NaN</td>\n",
       "    </tr>\n",
       "    <tr>\n",
       "      <th>9</th>\n",
       "      <td>Age</td>\n",
       "      <td>0</td>\n",
       "      <td>0.0</td>\n",
       "      <td>Integer</td>\n",
       "      <td>22421.0</td>\n",
       "      <td>39.784889</td>\n",
       "      <td>13.910773</td>\n",
       "      <td>1.0</td>\n",
       "      <td>34.0</td>\n",
       "      <td>36.000000</td>\n",
       "      <td>43.00</td>\n",
       "      <td>118.0</td>\n",
       "      <td>NaN</td>\n",
       "    </tr>\n",
       "  </tbody>\n",
       "</table>\n",
       "</div>"
      ],
      "text/plain": [
       "               Features  Missing Value Count  Missing Value Percentage  \\\n",
       "0                    ID                    0                       0.0   \n",
       "1                Agency                    0                       0.0   \n",
       "2           Agency Type                    0                       0.0   \n",
       "3  Distribution Channel                    0                       0.0   \n",
       "4          Product Name                    0                       0.0   \n",
       "5              Duration                    0                       0.0   \n",
       "6           Destination                    0                       0.0   \n",
       "7             Net Sales                    0                       0.0   \n",
       "8  Commision (in value)                    0                       0.0   \n",
       "9                   Age                    0                       0.0   \n",
       "\n",
       "    Data Types    count          mean          std      min      25%  \\\n",
       "0      Integer  22421.0  15499.196646  2606.751171  11000.0  13236.0   \n",
       "1  Categorical      NaN           NaN          NaN      NaN      NaN   \n",
       "2  Categorical      NaN           NaN          NaN      NaN      NaN   \n",
       "3  Categorical      NaN           NaN          NaN      NaN      NaN   \n",
       "4  Categorical      NaN           NaN          NaN      NaN      NaN   \n",
       "5      Integer  22421.0     59.100665   114.819397     -1.0     10.0   \n",
       "6  Categorical      NaN           NaN          NaN      NaN      NaN   \n",
       "7        Float  22421.0     49.446070    61.794609   -297.0     19.8   \n",
       "8        Float  22421.0     12.316924    22.957306      0.0      0.0   \n",
       "9      Integer  22421.0     39.784889    13.910773      1.0     34.0   \n",
       "\n",
       "            50%       75%      max  Unique Categories  \n",
       "0  15515.000000  17762.00  20000.0                NaN  \n",
       "1           NaN       NaN      NaN               16.0  \n",
       "2           NaN       NaN      NaN                2.0  \n",
       "3           NaN       NaN      NaN                2.0  \n",
       "4           NaN       NaN      NaN               25.0  \n",
       "5     24.000000     58.00   4857.0                NaN  \n",
       "6           NaN       NaN      NaN               97.0  \n",
       "7     29.518868     56.00    810.0                NaN  \n",
       "8      0.000000     13.63    283.5                NaN  \n",
       "9     36.000000     43.00    118.0                NaN  "
      ]
     },
     "execution_count": 7,
     "metadata": {},
     "output_type": "execute_result"
    }
   ],
   "source": [
    "#Get the descriptive statistics of the data\n",
    "stats_obj_test = UF.GetStats(test_data)\n",
    "\n",
    "data_stats_test = stats_obj_test.driver()\n",
    "\n",
    "#Write the statistics to a file\n",
    "data_stats_test.to_csv(\"test_data_stats.csv\")\n",
    "\n",
    "data_stats_test"
   ]
  },
  {
   "cell_type": "markdown",
   "metadata": {},
   "source": [
    "## Plotting\n",
    "\n",
    "Box plots of the continuous variables will bw used for vizualizing the outlies\n",
    "\n",
    "continuos variables = ['Duration', 'Net Sales', 'Commision (in value)', 'Age']\n"
   ]
  },
  {
   "cell_type": "code",
   "execution_count": 8,
   "metadata": {},
   "outputs": [],
   "source": [
    "#Univariate\n",
    "#Box Plots\n",
    "\n",
    "def box_plot(cont_var, data=train_data):\n",
    "    '''\n",
    "    Vizualize outlies via IQR(Q3-Q1)\n",
    "    '''\n",
    "    plt.boxplot(data[cont_var])\n",
    "    plt.title(cont_var + \" Box Plot\")\n",
    "    \n",
    "    plt.show() #This should be before saving the figure\n",
    "    plt.savefig(os.getcwd() + '/Plots/Box Plots/' + cont_var + \"_IQR.png\")\n",
    "    \n",
    "def outlier_wrt_SD(cont_var, data=train_data):\n",
    "    '''\n",
    "    Calculate Outliers using SD\n",
    "    '''\n",
    "    #sd = \n",
    "    pass\n",
    "\n"
   ]
  },
  {
   "cell_type": "code",
   "execution_count": 9,
   "metadata": {},
   "outputs": [],
   "source": [
    "#Bi-Variate Plots\n",
    "def seperability_plot(var_1, var_2, data=train_data, target='Claim'):\n",
    "    '''\n",
    "    Plot continuous variables and Target\n",
    "    X-axis:- First continuous variable\n",
    "    Y-axis:- Second continuous variable\n",
    "    Return:-\n",
    "    A plot that checks how the target is distributed and can the classes be seperated\n",
    "    '''\n",
    "    #Create a new column with the tags assigned to 0 and 1\n",
    "    data[target + '_tagged'] = data[target].map({0:'Genuine Claim', 1:'Fraud Claim'})\n",
    "    targets = ['Genuine Claim', 'Fraud Claim']\n",
    "    \n",
    "    for label in targets:\n",
    "        x = data.loc[data[target + '_tagged']==label, var_1]\n",
    "        y = data.loc[data[target + '_tagged']==label, var_2]\n",
    "        \n",
    "        plt.scatter(x, y)\n",
    "        \n",
    "    if(target + '_tagged' in data.columns):\n",
    "        data = data.drop(target + '_tagged', axis=1)\n",
    "    \n",
    "    #Assign class labels to the plotted points    \n",
    "    plt.legend(targets)\n",
    "    \n",
    "    #plt.title(var_1 + \" V/S \" + var_2)\n",
    "    plt.xlabel(var_1)\n",
    "    plt.ylabel(var_2)\n",
    "    \n",
    "    plt.savefig(os.getcwd() + '/Plots/Bi-Variate/' + var_1 + \" VS \" + var_2 + \".jpg\")\n",
    "    plt.show()"
   ]
  },
  {
   "cell_type": "code",
   "execution_count": 10,
   "metadata": {},
   "outputs": [
    {
     "name": "stdout",
     "output_type": "stream",
     "text": [
      "Help on function legend in module matplotlib.pyplot:\n",
      "\n",
      "legend(*args, **kwargs)\n",
      "    Place a legend on the axes.\n",
      "    \n",
      "    Call signatures::\n",
      "    \n",
      "        legend()\n",
      "        legend(labels)\n",
      "        legend(handles, labels)\n",
      "    \n",
      "    The call signatures correspond to three different ways how to use\n",
      "    this method.\n",
      "    \n",
      "    **1. Automatic detection of elements to be shown in the legend**\n",
      "    \n",
      "    The elements to be added to the legend are automatically determined,\n",
      "    when you do not pass in any extra arguments.\n",
      "    \n",
      "    In this case, the labels are taken from the artist. You can specify\n",
      "    them either at artist creation or by calling the\n",
      "    :meth:`~.Artist.set_label` method on the artist::\n",
      "    \n",
      "        line, = ax.plot([1, 2, 3], label='Inline label')\n",
      "        ax.legend()\n",
      "    \n",
      "    or::\n",
      "    \n",
      "        line, = ax.plot([1, 2, 3])\n",
      "        line.set_label('Label via method')\n",
      "        ax.legend()\n",
      "    \n",
      "    Specific lines can be excluded from the automatic legend element\n",
      "    selection by defining a label starting with an underscore.\n",
      "    This is default for all artists, so calling `.Axes.legend` without\n",
      "    any arguments and without setting the labels manually will result in\n",
      "    no legend being drawn.\n",
      "    \n",
      "    \n",
      "    **2. Labeling existing plot elements**\n",
      "    \n",
      "    To make a legend for lines which already exist on the axes\n",
      "    (via plot for instance), simply call this function with an iterable\n",
      "    of strings, one for each legend item. For example::\n",
      "    \n",
      "        ax.plot([1, 2, 3])\n",
      "        ax.legend(['A simple line'])\n",
      "    \n",
      "    Note: This way of using is discouraged, because the relation between\n",
      "    plot elements and labels is only implicit by their order and can\n",
      "    easily be mixed up.\n",
      "    \n",
      "    \n",
      "    **3. Explicitly defining the elements in the legend**\n",
      "    \n",
      "    For full control of which artists have a legend entry, it is possible\n",
      "    to pass an iterable of legend artists followed by an iterable of\n",
      "    legend labels respectively::\n",
      "    \n",
      "        legend((line1, line2, line3), ('label1', 'label2', 'label3'))\n",
      "    \n",
      "    Parameters\n",
      "    ----------\n",
      "    handles : sequence of `.Artist`, optional\n",
      "        A list of Artists (lines, patches) to be added to the legend.\n",
      "        Use this together with *labels*, if you need full control on what\n",
      "        is shown in the legend and the automatic mechanism described above\n",
      "        is not sufficient.\n",
      "    \n",
      "        The length of handles and labels should be the same in this\n",
      "        case. If they are not, they are truncated to the smaller length.\n",
      "    \n",
      "    labels : list of str, optional\n",
      "        A list of labels to show next to the artists.\n",
      "        Use this together with *handles*, if you need full control on what\n",
      "        is shown in the legend and the automatic mechanism described above\n",
      "        is not sufficient.\n",
      "    \n",
      "    Returns\n",
      "    -------\n",
      "    `~matplotlib.legend.Legend`\n",
      "    \n",
      "    Other Parameters\n",
      "    ----------------\n",
      "    \n",
      "    loc : str or pair of floats, default: :rc:`legend.loc` ('best' for axes, 'upper right' for figures)\n",
      "        The location of the legend.\n",
      "    \n",
      "        The strings\n",
      "        ``'upper left', 'upper right', 'lower left', 'lower right'``\n",
      "        place the legend at the corresponding corner of the axes/figure.\n",
      "    \n",
      "        The strings\n",
      "        ``'upper center', 'lower center', 'center left', 'center right'``\n",
      "        place the legend at the center of the corresponding edge of the\n",
      "        axes/figure.\n",
      "    \n",
      "        The string ``'center'`` places the legend at the center of the axes/figure.\n",
      "    \n",
      "        The string ``'best'`` places the legend at the location, among the nine\n",
      "        locations defined so far, with the minimum overlap with other drawn\n",
      "        artists.  This option can be quite slow for plots with large amounts of\n",
      "        data; your plotting speed may benefit from providing a specific location.\n",
      "    \n",
      "        The location can also be a 2-tuple giving the coordinates of the lower-left\n",
      "        corner of the legend in axes coordinates (in which case *bbox_to_anchor*\n",
      "        will be ignored).\n",
      "    \n",
      "        For back-compatibility, ``'center right'`` (but no other location) can also\n",
      "        be spelled ``'right'``, and each \"string\" locations can also be given as a\n",
      "        numeric value:\n",
      "    \n",
      "            ===============   =============\n",
      "            Location String   Location Code\n",
      "            ===============   =============\n",
      "            'best'            0\n",
      "            'upper right'     1\n",
      "            'upper left'      2\n",
      "            'lower left'      3\n",
      "            'lower right'     4\n",
      "            'right'           5\n",
      "            'center left'     6\n",
      "            'center right'    7\n",
      "            'lower center'    8\n",
      "            'upper center'    9\n",
      "            'center'          10\n",
      "            ===============   =============\n",
      "    \n",
      "    bbox_to_anchor : `.BboxBase`, 2-tuple, or 4-tuple of floats\n",
      "        Box that is used to position the legend in conjunction with *loc*.\n",
      "        Defaults to `axes.bbox` (if called as a method to `.Axes.legend`) or\n",
      "        `figure.bbox` (if `.Figure.legend`).  This argument allows arbitrary\n",
      "        placement of the legend.\n",
      "    \n",
      "        Bbox coordinates are interpreted in the coordinate system given by\n",
      "        *bbox_transform*, with the default transform\n",
      "        Axes or Figure coordinates, depending on which ``legend`` is called.\n",
      "    \n",
      "        If a 4-tuple or `.BboxBase` is given, then it specifies the bbox\n",
      "        ``(x, y, width, height)`` that the legend is placed in.\n",
      "        To put the legend in the best location in the bottom right\n",
      "        quadrant of the axes (or figure)::\n",
      "    \n",
      "            loc='best', bbox_to_anchor=(0.5, 0., 0.5, 0.5)\n",
      "    \n",
      "        A 2-tuple ``(x, y)`` places the corner of the legend specified by *loc* at\n",
      "        x, y.  For example, to put the legend's upper right-hand corner in the\n",
      "        center of the axes (or figure) the following keywords can be used::\n",
      "    \n",
      "            loc='upper right', bbox_to_anchor=(0.5, 0.5)\n",
      "    \n",
      "    ncol : int, default: 1\n",
      "        The number of columns that the legend has.\n",
      "    \n",
      "    prop : None or `matplotlib.font_manager.FontProperties` or dict\n",
      "        The font properties of the legend. If None (default), the current\n",
      "        :data:`matplotlib.rcParams` will be used.\n",
      "    \n",
      "    fontsize : int or {'xx-small', 'x-small', 'small', 'medium', 'large', 'x-large', 'xx-large'}\n",
      "        The font size of the legend. If the value is numeric the size will be the\n",
      "        absolute font size in points. String values are relative to the current\n",
      "        default font size. This argument is only used if *prop* is not specified.\n",
      "    \n",
      "    labelcolor : str or list\n",
      "        Sets the color of the text in the legend. Can be a valid color string\n",
      "        (for example, 'red'), or a list of color strings. The labelcolor can\n",
      "        also be made to match the color of the line or marker using 'linecolor',\n",
      "        'markerfacecolor' (or 'mfc'), or 'markeredgecolor' (or 'mec').\n",
      "    \n",
      "    numpoints : int, default: :rc:`legend.numpoints`\n",
      "        The number of marker points in the legend when creating a legend\n",
      "        entry for a `.Line2D` (line).\n",
      "    \n",
      "    scatterpoints : int, default: :rc:`legend.scatterpoints`\n",
      "        The number of marker points in the legend when creating\n",
      "        a legend entry for a `.PathCollection` (scatter plot).\n",
      "    \n",
      "    scatteryoffsets : iterable of floats, default: ``[0.375, 0.5, 0.3125]``\n",
      "        The vertical offset (relative to the font size) for the markers\n",
      "        created for a scatter plot legend entry. 0.0 is at the base the\n",
      "        legend text, and 1.0 is at the top. To draw all markers at the\n",
      "        same height, set to ``[0.5]``.\n",
      "    \n",
      "    markerscale : float, default: :rc:`legend.markerscale`\n",
      "        The relative size of legend markers compared with the originally\n",
      "        drawn ones.\n",
      "    \n",
      "    markerfirst : bool, default: True\n",
      "        If *True*, legend marker is placed to the left of the legend label.\n",
      "        If *False*, legend marker is placed to the right of the legend label.\n",
      "    \n",
      "    frameon : bool, default: :rc:`legend.frameon`\n",
      "        Whether the legend should be drawn on a patch (frame).\n",
      "    \n",
      "    fancybox : bool, default: :rc:`legend.fancybox`\n",
      "        Whether round edges should be enabled around the `~.FancyBboxPatch` which\n",
      "        makes up the legend's background.\n",
      "    \n",
      "    shadow : bool, default: :rc:`legend.shadow`\n",
      "        Whether to draw a shadow behind the legend.\n",
      "    \n",
      "    framealpha : float, default: :rc:`legend.framealpha`\n",
      "        The alpha transparency of the legend's background.\n",
      "        If *shadow* is activated and *framealpha* is ``None``, the default value is\n",
      "        ignored.\n",
      "    \n",
      "    facecolor : \"inherit\" or color, default: :rc:`legend.facecolor`\n",
      "        The legend's background color.\n",
      "        If ``\"inherit\"``, use :rc:`axes.facecolor`.\n",
      "    \n",
      "    edgecolor : \"inherit\" or color, default: :rc:`legend.edgecolor`\n",
      "        The legend's background patch edge color.\n",
      "        If ``\"inherit\"``, use take :rc:`axes.edgecolor`.\n",
      "    \n",
      "    mode : {\"expand\", None}\n",
      "        If *mode* is set to ``\"expand\"`` the legend will be horizontally\n",
      "        expanded to fill the axes area (or *bbox_to_anchor* if defines\n",
      "        the legend's size).\n",
      "    \n",
      "    bbox_transform : None or `matplotlib.transforms.Transform`\n",
      "        The transform for the bounding box (*bbox_to_anchor*). For a value\n",
      "        of ``None`` (default) the Axes'\n",
      "        :data:`~matplotlib.axes.Axes.transAxes` transform will be used.\n",
      "    \n",
      "    title : str or None\n",
      "        The legend's title. Default is no title (``None``).\n",
      "    \n",
      "    title_fontsize : int or {'xx-small', 'x-small', 'small', 'medium', 'large', 'x-large', 'xx-large'}, default: :rc:`legend.title_fontsize`\n",
      "        The font size of the legend's title.\n",
      "    \n",
      "    borderpad : float, default: :rc:`legend.borderpad`\n",
      "        The fractional whitespace inside the legend border, in font-size units.\n",
      "    \n",
      "    labelspacing : float, default: :rc:`legend.labelspacing`\n",
      "        The vertical space between the legend entries, in font-size units.\n",
      "    \n",
      "    handlelength : float, default: :rc:`legend.handlelength`\n",
      "        The length of the legend handles, in font-size units.\n",
      "    \n",
      "    handletextpad : float, default: :rc:`legend.handletextpad`\n",
      "        The pad between the legend handle and text, in font-size units.\n",
      "    \n",
      "    borderaxespad : float, default: :rc:`legend.borderaxespad`\n",
      "        The pad between the axes and legend border, in font-size units.\n",
      "    \n",
      "    columnspacing : float, default: :rc:`legend.columnspacing`\n",
      "        The spacing between columns, in font-size units.\n",
      "    \n",
      "    handler_map : dict or None\n",
      "        The custom dictionary mapping instances or types to a legend\n",
      "        handler. This *handler_map* updates the default handler map\n",
      "        found at `matplotlib.legend.Legend.get_legend_handler_map`.\n",
      "    \n",
      "    \n",
      "    Notes\n",
      "    -----\n",
      "    Some artists are not supported by this function.  See\n",
      "    :doc:`/tutorials/intermediate/legend_guide` for details.\n",
      "    \n",
      "    Examples\n",
      "    --------\n",
      "    .. plot:: gallery/text_labels_and_annotations/legend.py\n",
      "\n"
     ]
    }
   ],
   "source": [
    "help(plt.legend)"
   ]
  },
  {
   "cell_type": "markdown",
   "metadata": {},
   "source": [
    "## Continuous Variables"
   ]
  },
  {
   "cell_type": "code",
   "execution_count": 11,
   "metadata": {
    "scrolled": false
   },
   "outputs": [
    {
     "data": {
      "image/png": "[encoded data removed]",
      "text/plain": [
       "<Figure size 432x288 with 1 Axes>"
      ]
     },
     "metadata": {
      "needs_background": "light"
     },
     "output_type": "display_data"
    },
    {
     "data": {
      "image/png": "[encoded data removed]",
      "text/plain": [
       "<Figure size 432x288 with 1 Axes>"
      ]
     },
     "metadata": {
      "needs_background": "light"
     },
     "output_type": "display_data"
    },
    {
     "data": {
      "image/png": "[encoded data removed]",
      "text/plain": [
       "<Figure size 432x288 with 1 Axes>"
      ]
     },
     "metadata": {
      "needs_background": "light"
     },
     "output_type": "display_data"
    },
    {
     "data": {
      "image/png": "[encoded data removed]",
      "text/plain": [
       "<Figure size 432x288 with 1 Axes>"
      ]
     },
     "metadata": {
      "needs_background": "light"
     },
     "output_type": "display_data"
    },
    {
     "data": {
      "text/plain": [
       "[None, None, None, None]"
      ]
     },
     "execution_count": 11,
     "metadata": {},
     "output_type": "execute_result"
    },
    {
     "data": {
      "text/plain": [
       "<Figure size 432x288 with 0 Axes>"
      ]
     },
     "metadata": {},
     "output_type": "display_data"
    }
   ],
   "source": [
    "continuous_vars =  ['Duration', 'Net Sales', 'Commision (in value)', 'Age']\n",
    "list(map(box_plot, continuous_vars))"
   ]
  },
  {
   "cell_type": "code",
   "execution_count": 12,
   "metadata": {},
   "outputs": [
    {
     "data": {
      "image/png": "[encoded data removed]",
      "text/plain": [
       "<Figure size 432x288 with 1 Axes>"
      ]
     },
     "metadata": {
      "needs_background": "light"
     },
     "output_type": "display_data"
    },
    {
     "data": {
      "image/png": "[encoded data removed]",
      "text/plain": [
       "<Figure size 432x288 with 1 Axes>"
      ]
     },
     "metadata": {
      "needs_background": "light"
     },
     "output_type": "display_data"
    },
    {
     "data": {
      "image/png": "[encoded data removed]",
      "text/plain": [
       "<Figure size 432x288 with 1 Axes>"
      ]
     },
     "metadata": {
      "needs_background": "light"
     },
     "output_type": "display_data"
    },
    {
     "data": {
      "image/png": "[encoded data removed]",
      "text/plain": [
       "<Figure size 432x288 with 1 Axes>"
      ]
     },
     "metadata": {
      "needs_background": "light"
     },
     "output_type": "display_data"
    },
    {
     "data": {
      "image/png": "[encoded data removed]",
      "text/plain": [
       "<Figure size 432x288 with 1 Axes>"
      ]
     },
     "metadata": {
      "needs_background": "light"
     },
     "output_type": "display_data"
    },
    {
     "data": {
      "image/png": "[encoded data removed]",
      "text/plain": [
       "<Figure size 432x288 with 1 Axes>"
      ]
     },
     "metadata": {
      "needs_background": "light"
     },
     "output_type": "display_data"
    }
   ],
   "source": [
    "for ind_var_1 in range(len(continuous_vars)-1):\n",
    "    for ind_var_2 in range(ind_var_1+1, len(continuous_vars)):\n",
    "        var_1 = continuous_vars[ind_var_1]\n",
    "        var_2 = continuous_vars[ind_var_2]\n",
    "        \n",
    "        seperability_plot(var_1, var_2)"
   ]
  },
  {
   "cell_type": "code",
   "execution_count": 15,
   "metadata": {},
   "outputs": [
    {
     "data": {
      "text/plain": [
       "False"
      ]
     },
     "execution_count": 15,
     "metadata": {},
     "output_type": "execute_result"
    }
   ],
   "source": [
    "if('Claim' + '_tagged' in train_data.columns):\n",
    "    train_data = train_data.drop('Claim' + '_tagged', axis=1)\n",
    "'Claim' + '_tagged' in train_data.columns"
   ]
  },
  {
   "cell_type": "markdown",
   "metadata": {},
   "source": [
    "## Variable Transformation & Derived Variables"
   ]
  },
  {
   "cell_type": "markdown",
   "metadata": {},
   "source": [
    "## Categorical Variables"
   ]
  },
  {
   "cell_type": "code",
   "execution_count": 16,
   "metadata": {},
   "outputs": [
    {
     "data": {
      "text/plain": [
       "['Distribution Channel',\n",
       " 'Agency',\n",
       " 'Destination',\n",
       " 'Product Name',\n",
       " 'Agency Type']"
      ]
     },
     "execution_count": 16,
     "metadata": {},
     "output_type": "execute_result"
    }
   ],
   "source": [
    "categorical_vars = list(set(train_data.columns).difference(set(continuous_vars + ['ID', 'Claim'])))\n",
    "categorical_vars"
   ]
  },
  {
   "cell_type": "raw",
   "metadata": {},
   "source": [
    "categorical_vars = ['Product Name',\n",
    " 'Agency',\n",
    " 'Agency Type',\n",
    " 'Distribution Channel',\n",
    " 'Destination']"
   ]
  },
  {
   "cell_type": "markdown",
   "metadata": {},
   "source": [
    "### WOE - IV\n",
    "\n",
    "The weight of Evidence is the ratio of log of %Non-Events and %Events.\n",
    "Advantages of WOE\n",
    "\n",
    "1. The categories having similar woe values(ratio) can be combined, as they have same behaviour w.r.t. the Target Variable\n",
    "\n",
    "2. IV(Information Value) determines the importance of variables\n"
   ]
  },
  {
   "cell_type": "code",
   "execution_count": 17,
   "metadata": {},
   "outputs": [
    {
     "name": "stdout",
     "output_type": "stream",
     "text": [
      "Help on function woe_iv in module WOE_IV:\n",
      "\n",
      "woe_iv(cat_var, data, events='Good', non_events='Bad', target='Listing_Type')\n",
      "\n"
     ]
    }
   ],
   "source": [
    "help(woe.woe_iv)"
   ]
  },
  {
   "cell_type": "code",
   "execution_count": 18,
   "metadata": {},
   "outputs": [],
   "source": [
    "woe_iv_writer = pd.ExcelWriter(os.getcwd() + \"/WOE_IV.xlsx\")\n",
    "\n",
    "for cat_var in categorical_vars:\n",
    "    #1--> Represents Events\n",
    "    #0--> Represents Non-Events\n",
    "    woe_iv_df = woe.woe_iv(cat_var, train_data, 1, 0, 'Claim')\n",
    "    \n",
    "    #Write the distribution to the sheet\n",
    "    woe_iv_df.to_excel(woe_iv_writer, sheet_name=cat_var)\n",
    "    \n",
    "#Close the writer for data to be written\n",
    "woe_iv_writer.close()\n"
   ]
  },
  {
   "cell_type": "markdown",
   "metadata": {},
   "source": [
    "## Grouping Categories\n",
    "\n",
    "The categories having less than 5% of the contribution are clubbed into Others category "
   ]
  },
  {
   "cell_type": "markdown",
   "metadata": {},
   "source": [
    "### Minority Categories"
   ]
  },
  {
   "cell_type": "code",
   "execution_count": 19,
   "metadata": {},
   "outputs": [],
   "source": [
    "#Product Name\n",
    "others_product_name = [\"Ticket Protector\",\n",
    "\"Travel Cruise Protect\",\n",
    "\"Gold Plan\",\n",
    "\"Annual Gold Plan\",\n",
    "\"Comprehensive Plan\",\n",
    "\"Single Trip Travel Protect Gold\",\n",
    "\"Annual Travel Protect Gold\",\n",
    "\"24 Protect\",\n",
    "\"Premier Plan\",\n",
    "\"Single Trip Travel Protect Silver\",\n",
    "\"Single Trip Travel Protect Platinum\",\n",
    "\"Annual Travel Protect Silver\",\n",
    "\"Individual Comprehensive Plan\",\n",
    "\"Annual Travel Protect Platinum\",\n",
    "\"Spouse or Parents Comprehensive Plan\",\n",
    "\"Child Comprehensive Plan\"\n",
    "]\n",
    "\n",
    "#Agency\n",
    "others_agency = [\"SSI\",\n",
    "\"JWT\",\n",
    "\"RAB\",\n",
    "\"TST\",\n",
    "\"KML\",\n",
    "\"ART\",\n",
    "\"CCR\",\n",
    "\"TTW\",\n",
    "\"CBH\",\n",
    "\"CSR\",\n",
    "\"ADM\"\n",
    "]\n",
    "\n",
    "#Destination\n",
    "others_destination = [\"SPAIN\",\n",
    "\"UNITED ARAB EMIRATES\",\n",
    "\"SWITZERLAND\",\n",
    "\"SRI LANKA\",\n",
    "\"SOUTH AFRICA\",\n",
    "\"NEPAL\",\n",
    "\"NORWAY\",\n",
    "\"LAO PEOPLE'S DEMOCRATIC REPUBLIC\",\n",
    "\"IRELAND\",\n",
    "\"ICELAND\",\n",
    "\"DENMARK\",\n",
    "\"MACAO\",\n",
    "\"GREECE\",\n",
    "\"PERU\",\n",
    "\"PORTUGAL\",\n",
    "\"AUSTRIA\",\n",
    "\"BANGLADESH\",\n",
    "\"FINLAND\",\n",
    "\"TURKEY\",\n",
    "\"RUSSIAN FEDERATION\",\n",
    "\"CZECH REPUBLIC\",\n",
    "\"SAUDI ARABIA\",\n",
    "\"SWEDEN\",\n",
    "\"CROATIA\",\n",
    "\"BELGIUM\",\n",
    "\"ISRAEL\",\n",
    "\"MEXICO\",\n",
    "\"MONGOLIA\",\n",
    "\"POLAND\",\n",
    "\"BRAZIL\",\n",
    "\"PAKISTAN\",\n",
    "\"MALDIVES\",\n",
    "\"EGYPT\",\n",
    "\"HUNGARY\",\n",
    "\"ROMANIA\",\n",
    "\"TANZANIA, UNITED REPUBLIC OF\",\n",
    "\"ARGENTINA\",\n",
    "\"KENYA\",\n",
    "\"CYPRUS\",\n",
    "\"MOROCCO\",\n",
    "\"MALTA\",\n",
    "\"BAHRAIN\",\n",
    "\"QATAR\",\n",
    "\"KAZAKHSTAN\",\n",
    "\"FIJI\",\n",
    "\"OMAN\",\n",
    "\"UKRAINE\",\n",
    "\"JORDAN\",\n",
    "\"COLOMBIA\",\n",
    "\"MAURITIUS\",\n",
    "\"LUXEMBOURG\",\n",
    "\"UZBEKISTAN\",\n",
    "\"CHILE\",\n",
    "\"ESTONIA\",\n",
    "\"GEORGIA\",\n",
    "\"SLOVENIA\",\n",
    "\"AZERBAIJAN\",\n",
    "\"GUAM\",\n",
    "\"KUWAIT\",\n",
    "\"BOLIVIA\",\n",
    "\"COSTA RICA\",\n",
    "\"VENEZUELA\",\n",
    "\"TUNISIA\",\n",
    "\"KYRGYZSTAN\",\n",
    "\"LEBANON\",\n",
    "\"VANUATU\",\n",
    "\"LITHUANIA\",\n",
    "\"ETHIOPIA\",\n",
    "\"BELARUS\",\n",
    "\"BERMUDA\",\n",
    "\"BHUTAN\",\n",
    "\"TURKMENISTAN\",\n",
    "\"ZAMBIA\"\n",
    "]"
   ]
  },
  {
   "cell_type": "markdown",
   "metadata": {},
   "source": [
    "### Majority Categories\n",
    "\n",
    "List the categories within each categorical variable having more than 5 % count(i.e. less than 95% cummulative count)"
   ]
  },
  {
   "cell_type": "code",
   "execution_count": 25,
   "metadata": {},
   "outputs": [],
   "source": [
    "'''\n",
    "'Product Name',\n",
    "'Agency',\n",
    "'Destination'\n",
    "'''\n",
    "\n",
    "#Product Name\n",
    "majority_product_name = list(set(train_data['Product Name']).\\\n",
    "                             difference(set(others_product_name)))\n",
    "\n",
    "#Agency\n",
    "majority_agency = list(set(train_data['Agency']).difference(set(others_agency)))\n",
    "\n",
    "#Destination\n",
    "majority_destination = list(set(train_data['Destination']).\\\n",
    "                            difference(set(others_destination)))"
   ]
  },
  {
   "cell_type": "code",
   "execution_count": 29,
   "metadata": {},
   "outputs": [],
   "source": [
    "class GroupingCatVars():\n",
    "    '''\n",
    "    Group some of the categories belonging to \n",
    "    Destination, Agency and Product Name to \"OTHERS\"\n",
    "    '''\n",
    "    def __init__(self, data):\n",
    "        self.data = data\n",
    "        self.grouped_vars = [] #Store the newly created grouped variable\n",
    "        \n",
    "    def tag_others(self, cat_var, others_cat, majority_cat):\n",
    "        '''\n",
    "        Create a new grouped variable obtained vai \n",
    "        clubbing the less frequent categories.\n",
    "        If a new category appeares in the unseen data then\n",
    "        this category is tagged as \"OTHERS\"\n",
    "        Input:-\n",
    "        cat_var:- The categorical variable whose categories are to be grouped\n",
    "        others_cat:- A list of categories that are to be tagged as \"OTHERS\"\n",
    "        majority_cat:- A l\n",
    "        '''\n",
    "        self.data[cat_var + \"_grouped\"] = list(map(lambda cat: \"OTHERS\" if((cat in others_cat)\\\n",
    "                                                                           #Unseen category\n",
    "                                                                           or ((cat not in others_cat)\\\n",
    "                                                                              and\\\n",
    "                                                                               (cat not in majority_cat)))\n",
    "                                               else cat, self.data[cat_var]))\n",
    "        \n",
    "        #Update the list of grouped variables\n",
    "        self.grouped_vars.append(cat_var + \"_grouped\")\n",
    "        \n",
    "    def driver(self):\n",
    "        grouping_vars = ['Destination', 'Agency', 'Product Name']\n",
    "        others_lists = [others_destination, others_agency, others_product_name]\n",
    "        majority_lists = [majority_destination, majority_agency, majority_product_name]\n",
    "        \n",
    "        for var, others_list, majority_list in \\\n",
    "        zip(grouping_vars, others_lists, majority_lists):\n",
    "            self.tag_others(var, others_list, majority_list)\n",
    "        \n",
    "        #Return the updated data with the grouped variables\n",
    "        return self.grouped_vars"
   ]
  },
  {
   "cell_type": "code",
   "execution_count": 32,
   "metadata": {},
   "outputs": [
    {
     "name": "stdout",
     "output_type": "stream",
     "text": [
      "# Categories in Destination before grouping:- \n",
      "97\n",
      "# Categories in Destination after grouping:- \n",
      "25\n",
      "\n",
      "\n",
      "# Categories in Agency before grouping:- \n",
      "16\n",
      "# Categories in Agency after grouping:- \n",
      "6\n",
      "\n",
      "\n",
      "# Categories in Product Name before grouping:- \n",
      "25\n",
      "# Categories in Product Name after grouping:- \n",
      "10\n",
      "\n",
      "\n"
     ]
    }
   ],
   "source": [
    "#Create an object of the GroupingCatVars class\n",
    "grouping_cat_vars_train_obj = GroupingCatVars(train_data)\n",
    "grouped_vars_train = grouping_cat_vars_train_obj.driver()\n",
    "\n",
    "for var in ['Destination', 'Agency', 'Product Name']:\n",
    "    print(\"# Categories in %s before grouping:- \" %(var))\n",
    "    print(len(set(train_data[var])))\n",
    "    print(\"# Categories in %s after grouping:- \" %(var))\n",
    "    print(len(set(train_data[var + \"_grouped\"])))\n",
    "    print(\"\\n\")\n",
    "#train_data[grouped_vars].head()"
   ]
  },
  {
   "cell_type": "code",
   "execution_count": 33,
   "metadata": {},
   "outputs": [],
   "source": [
    "#Create a copy of test data\n",
    "#test_data_copy = test_data.copy()"
   ]
  },
  {
   "cell_type": "code",
   "execution_count": 34,
   "metadata": {},
   "outputs": [
    {
     "name": "stdout",
     "output_type": "stream",
     "text": [
      "# Categories in Destination before grouping:- \n",
      "97\n",
      "# Categories in Destination after grouping:- \n",
      "25\n",
      "\n",
      "\n",
      "# Categories in Agency before grouping:- \n",
      "16\n",
      "# Categories in Agency after grouping:- \n",
      "6\n",
      "\n",
      "\n",
      "# Categories in Product Name before grouping:- \n",
      "25\n",
      "# Categories in Product Name after grouping:- \n",
      "10\n",
      "\n",
      "\n"
     ]
    }
   ],
   "source": [
    "#Create an object of the GroupingCatVars class\n",
    "grouping_cat_vars_test_obj = GroupingCatVars(test_data)\n",
    "grouped_vars_test = grouping_cat_vars_test_obj.driver()\n",
    "\n",
    "for var in ['Destination', 'Agency', 'Product Name']:\n",
    "    print(\"# Categories in %s before grouping:- \" %(var))\n",
    "    print(len(set(test_data[var])))\n",
    "    print(\"# Categories in %s after grouping:- \" %(var))\n",
    "    print(len(set(test_data[var + \"_grouped\"])))\n",
    "    print(\"\\n\")\n",
    "#train_data[grouped_vars].head()"
   ]
  },
  {
   "cell_type": "code",
   "execution_count": 36,
   "metadata": {},
   "outputs": [
    {
     "name": "stdout",
     "output_type": "stream",
     "text": [
      "0    PHILIPPINES\n",
      "1       MALAYSIA\n",
      "2       THAILAND\n",
      "3      HONG KONG\n",
      "4       MALAYSIA\n",
      "5       THAILAND\n",
      "Name: Destination_grouped, dtype: object\n",
      "0                    HONG KONG\n",
      "1                    SINGAPORE\n",
      "2                    SINGAPORE\n",
      "3    TAIWAN, PROVINCE OF CHINA\n",
      "4                    SINGAPORE\n",
      "5                    SINGAPORE\n",
      "Name: Destination_grouped, dtype: object\n",
      "\n",
      "\n",
      "0    EPX\n",
      "1    EPX\n",
      "2    CWT\n",
      "3    EPX\n",
      "4    EPX\n",
      "5    EPX\n",
      "Name: Agency_grouped, dtype: object\n",
      "0    EPX\n",
      "1    EPX\n",
      "2    C2B\n",
      "3    EPX\n",
      "4    C2B\n",
      "5    C2B\n",
      "Name: Agency_grouped, dtype: object\n",
      "\n",
      "\n",
      "0                  Cancellation Plan\n",
      "1                  Cancellation Plan\n",
      "2    Rental Vehicle Excess Insurance\n",
      "3           2 way Comprehensive Plan\n",
      "4           2 way Comprehensive Plan\n",
      "5           2 way Comprehensive Plan\n",
      "Name: Product Name_grouped, dtype: object\n",
      "0           Cancellation Plan\n",
      "1    1 way Comprehensive Plan\n",
      "2                 Bronze Plan\n",
      "3    2 way Comprehensive Plan\n",
      "4                 Silver Plan\n",
      "5                 Bronze Plan\n",
      "Name: Product Name_grouped, dtype: object\n",
      "\n",
      "\n"
     ]
    }
   ],
   "source": [
    "#['Destination_grouped', 'Agency_grouped', 'Product Name_grouped']\n",
    "for grp_var in ['Destination_grouped', 'Agency_grouped', 'Product Name_grouped']:\n",
    "    print(train_data.loc[0:5, grp_var])\n",
    "    print(test_data.loc[0:5, grp_var])\n",
    "    print(\"\\n\")"
   ]
  },
  {
   "cell_type": "markdown",
   "metadata": {},
   "source": [
    "## Encoding Categorical Variables\n",
    "\n",
    "If fitting a classification algorithm there is no need for dropping the first category \n",
    "of the variable"
   ]
  },
  {
   "cell_type": "code",
   "execution_count": null,
   "metadata": {},
   "outputs": [],
   "source": [
    "#One Hot Encoding\n",
    "def OHE(data, cat_vars, train_test='train'):\n",
    "    '''\n",
    "    Input:-\n",
    "    data:- The data set to be encoded\n",
    "    cat_vars:- The list of categoricalvariables\n",
    "    train_test:- The identifier for determining whether it's a train data or test data\n",
    "    '''\n",
    "    if(train_test=='train'):\n",
    "        #Drop the first category if it's a train data\n",
    "        encoded_data = pd.get_dummies(data[cat_vars], drop_first=True)\n",
    "    else:\n",
    "        #Don't drop first category for non-training data\n",
    "        encoded_data = pd.get_dummies(data[cat_vars])\n",
    "        \n",
    "    encoded_features = list(set(encoded_data.columns).difference(set(cat_vars)))\n",
    "    \n",
    "    #Append the original features\n",
    "    encoded_data = pd.concat([data, encoded_data], axis=1)\n",
    "    \n",
    "    #Return the encoded_data along-with the encoded features\n",
    "    return encoded_data, encoded_features\n",
    "\n",
    "encoded_data_train, encoded_features_train = OHE(train_data,categorical_vars)\n",
    "encoded_data_test, encoded_features_test = OHE(train_data,categorical_vars, 'test')"
   ]
  },
  {
   "cell_type": "code",
   "execution_count": 53,
   "metadata": {},
   "outputs": [
    {
     "data": {
      "text/plain": [
       "[40, 45]"
      ]
     },
     "execution_count": 53,
     "metadata": {},
     "output_type": "execute_result"
    }
   ],
   "source": [
    "list(map(len, [encoded_features_train, encoded_features_test]))"
   ]
  },
  {
   "cell_type": "code",
   "execution_count": 56,
   "metadata": {},
   "outputs": [
    {
     "data": {
      "text/plain": [
       "{'Agency Type_Airlines',\n",
       " 'Agency_grouped_C2B',\n",
       " 'Destination_grouped_AUSTRALIA',\n",
       " 'Distribution Channel_Offline',\n",
       " 'Product Name_grouped_1 way Comprehensive Plan'}"
      ]
     },
     "execution_count": 56,
     "metadata": {},
     "output_type": "execute_result"
    }
   ],
   "source": [
    "#Categories dropped while encoding the train data\n",
    "\n",
    "set(encoded_features_test).difference(set(encoded_features_train))"
   ]
  },
  {
   "cell_type": "markdown",
   "metadata": {},
   "source": [
    "## Train and Test Data"
   ]
  },
  {
   "cell_type": "code",
   "execution_count": 64,
   "metadata": {},
   "outputs": [
    {
     "name": "stdout",
     "output_type": "stream",
     "text": [
      "Count before tagging:- Counter({0: 43590, 1: 8720})\n",
      "Count after tagging:- Counter({'Genuine Claim': 43590, 'Fraud Claim': 8720})\n"
     ]
    }
   ],
   "source": [
    "#Tag the targets\n",
    "target = 'Claim'\n",
    "print(\"Count before tagging:- {}\" .format(Counter(encoded_data_train[target])))\n",
    "\n",
    "encoded_data_train[target + '_tagged'] = encoded_data_train[target].map({0:'Genuine Claim', 1:'Fraud Claim'})\n",
    "\n",
    "print(\"Count after tagging:- {}\" .format(Counter(encoded_data_train[target + '_tagged'])))"
   ]
  },
  {
   "cell_type": "code",
   "execution_count": 61,
   "metadata": {},
   "outputs": [
    {
     "data": {
      "text/plain": [
       "['Duration', 'Net Sales', 'Commision (in value)', 'Age']"
      ]
     },
     "execution_count": 61,
     "metadata": {},
     "output_type": "execute_result"
    }
   ],
   "source": [
    "continuous_vars"
   ]
  },
  {
   "cell_type": "code",
   "execution_count": 62,
   "metadata": {},
   "outputs": [
    {
     "data": {
      "text/plain": [
       "['Claim']"
      ]
     },
     "execution_count": 62,
     "metadata": {},
     "output_type": "execute_result"
    }
   ],
   "source": [
    "#Target variable\n",
    "[var for var in train_data.columns if('claim' in var.lower())]"
   ]
  },
  {
   "cell_type": "code",
   "execution_count": 69,
   "metadata": {},
   "outputs": [],
   "source": [
    "X_train = encoded_data_train[encoded_features_train + continuous_vars]\n",
    "y_train = encoded_data_train[target]\n",
    "\n",
    "X_test = encoded_data_test[encoded_features_train + continuous_vars]"
   ]
  },
  {
   "cell_type": "markdown",
   "metadata": {},
   "source": [
    "## Modelling"
   ]
  },
  {
   "cell_type": "code",
   "execution_count": 83,
   "metadata": {},
   "outputs": [],
   "source": [
    "class Modeling():\n",
    "    \n",
    "    def __init__(self, X_train, X_test, y_train, model, name_of_classifier):\n",
    "        self.X_train = X_train\n",
    "        self.X_test = X_test\n",
    "        self.y_train = y_train\n",
    "        #self.y_test = y_test\n",
    "        self.model = model\n",
    "        self.clf_name = name_of_classifier\n",
    "        \n",
    "    def save_proba(self, probability, y, train_test):\n",
    "        #Write the probability to a file\n",
    "        probability_df = pd.DataFrame(probability, columns= [\"Genuine\", \"Fraud\"])\n",
    "        \n",
    "        if(train_test=='train'):\n",
    "            probability_df[\"Actuals\"] = y.tolist()\n",
    "        \n",
    "        probability_df.to_csv(os.getcwd() + \"/Model Results/\" + train_test + \" Probabilities.csv\")\n",
    "    \n",
    "    def auc_roc(self, X, y, train_test):\n",
    "        predicted_probability = self.model.predict_proba(X)\n",
    "        \n",
    "        #Actuals for train data are present--> y_train\n",
    "        if(train_test=='train'):\n",
    "            #Save the probabilities\n",
    "            self.save_proba(predicted_probability, y, train_test)\n",
    "            \n",
    "            fpr, tpr, _ = roc_curve(y,  predicted_probability[::,1])\n",
    "            \n",
    "            auc = roc_auc_score(y, predicted_probability[::,1])\n",
    "            plt.plot(fpr,tpr,label=\"data 1, auc=\"+str(auc))\n",
    "            plt.legend(loc=4)\n",
    "            plt.xlabel(\"False Positive Rate\")\n",
    "            plt.ylabel(\"True Positive Rate\")\n",
    "            plt.savefig(os.getcwd() + \"/Model Results/\" + train_test + \" AUC \" + self.clf_name + \".png\")\n",
    "            plt.show()\n",
    "            \n",
    "        else:\n",
    "            #Save the test probabilities\n",
    "            self.save_proba(predicted_probability, y, train_test)\n",
    "    \n",
    "    def evaluate(self, CM, train_test):\n",
    "        \n",
    "        accuracy = CM.diagonal().sum()/CM.sum()\n",
    "        precision = CM[1][1]/(CM[1][1] + CM[0][1])\n",
    "        recall = CM[1][1]/(CM[1][1] + CM[1][0])\n",
    "        f_measure = (2*precision*recall)/(precision+recall)\n",
    "        print(train_test + \" Data\")\n",
    "        print(CM)\n",
    "        print(\"Accuracy:- {}\\nPrecision:- {}\\nRecall:- {}\\nF-measure:- {}\" \\\n",
    "              .format(accuracy,precision, recall, f_measure))\n",
    "    \n",
    "    def prediction(self):\n",
    "        #Fit the model\n",
    "        model = self.model.fit(self.X_train, self.y_train)\n",
    "        \n",
    "        #Predict on test set\n",
    "        predicted_train = model.predict(self.X_train)\n",
    "        predicted_test = model.predict(self.X_test)\n",
    "        \n",
    "        #Results\n",
    "        result_train = pd.DataFrame({'Actual':self.y_train.ravel(), 'Predicted':predicted_train.ravel()},\n",
    "        columns=['Actual','Predicted'])\n",
    "        \n",
    "        result_test = pd.DataFrame({'Predicted':predicted_test.ravel()},\n",
    "        columns=['Predicted'])\n",
    "        \n",
    "        #Save the model\n",
    "        joblib.dump(model, os.getcwd() + \"/Model Results/\" + self.clf_name + \".pkl\")\n",
    "        \n",
    "        #Print the AUC_ROC curve\n",
    "        self.auc_roc(self.X_train, self.y_train, \"train\")\n",
    "        self.auc_roc(self.X_test, '', \"test\")\n",
    "        \n",
    "        #Evaluate the model\n",
    "        CM_train = CM(self.y_train.ravel(), predicted_train.ravel(), labels=None, sample_weight=None)\n",
    "        #CM_test = CM(self.y_test.ravel(), predicted_test.ravel(), labels=None, sample_weight=None)\n",
    "        \n",
    "        self.evaluate(CM_train, \"train\")\n",
    "        #self.evaluate(CM_test, \"test\")"
   ]
  },
  {
   "cell_type": "markdown",
   "metadata": {},
   "source": [
    "## Logistic Regression\n"
   ]
  },
  {
   "cell_type": "markdown",
   "metadata": {},
   "source": [
    "### Without binning continuous variables"
   ]
  },
  {
   "cell_type": "code",
   "execution_count": 84,
   "metadata": {},
   "outputs": [
    {
     "name": "stderr",
     "output_type": "stream",
     "text": [
      "/home/shrikrishna/anaconda3/lib/python3.6/site-packages/sklearn/linear_model/_logistic.py:765: ConvergenceWarning: lbfgs failed to converge (status=1):\n",
      "STOP: TOTAL NO. of ITERATIONS REACHED LIMIT.\n",
      "\n",
      "Increase the number of iterations (max_iter) or scale the data as shown in:\n",
      "    https://scikit-learn.org/stable/modules/preprocessing.html\n",
      "Please also refer to the documentation for alternative solver options:\n",
      "    https://scikit-learn.org/stable/modules/linear_model.html#logistic-regression\n",
      "  extra_warning_msg=_LOGISTIC_SOLVER_CONVERGENCE_MSG)\n"
     ]
    },
    {
     "data": {
      "image/png": "[encoded data removed]",
      "text/plain": [
       "<Figure size 432x288 with 1 Axes>"
      ]
     },
     "metadata": {
      "needs_background": "light"
     },
     "output_type": "display_data"
    },
    {
     "name": "stdout",
     "output_type": "stream",
     "text": [
      "train Data\n",
      "[[42036  1554]\n",
      " [ 6294  2426]]\n",
      "Accuracy:- 0.8499713247944943\n",
      "Precision:- 0.6095477386934673\n",
      "Recall:- 0.2782110091743119\n",
      "F-measure:- 0.38204724409448815\n"
     ]
    }
   ],
   "source": [
    "#X_train, X_test, y_train, model, name_of_classifier)\n",
    "lr = LR()\n",
    "logistic_model = Modeling(X_train, X_test, y_train, lr, \"Logistic\")\n",
    "logistic_model.prediction()"
   ]
  },
  {
   "cell_type": "code",
   "execution_count": 92,
   "metadata": {},
   "outputs": [
    {
     "data": {
      "text/plain": [
       "16.66985280061174"
      ]
     },
     "execution_count": 92,
     "metadata": {},
     "output_type": "execute_result"
    }
   ],
   "source": [
    "#Counter(y_train)\n",
    "event_rate = 8720*100/(8720+43590)\n",
    "event_rate"
   ]
  },
  {
   "cell_type": "code",
   "execution_count": 93,
   "metadata": {},
   "outputs": [
    {
     "data": {
      "text/plain": [
       "'/home/shrikrishna/Downloads/Bharti AXA DS Test'"
      ]
     },
     "execution_count": 93,
     "metadata": {},
     "output_type": "execute_result"
    }
   ],
   "source": [
    "os.getcwd()"
   ]
  },
  {
   "cell_type": "code",
   "execution_count": 109,
   "metadata": {},
   "outputs": [
    {
     "data": {
      "text/plain": [
       "(0.7859873829095775,\n",
       " 0.42157297674123834,\n",
       " 0.7628440366972477,\n",
       " 0.5430425731662516)"
      ]
     },
     "execution_count": 109,
     "metadata": {},
     "output_type": "execute_result"
    }
   ],
   "source": [
    "def get_predictions(file_path, thresh=0.1667):\n",
    "    #print(\"Cut-off:- %.2f\" %(thresh))\n",
    "    probabilities = pd.read_csv(file_path)\n",
    "    probabilities[\"Predicted\"] = list(map(lambda prob: 1 if(prob>=thresh) \n",
    "                                         else 0, probabilities[\"Fraud\"]))\n",
    "    #Confusion Matrix\n",
    "    CM_train = CM(probabilities[\"Actuals\"].tolist(), probabilities[\"Predicted\"].tolist())\n",
    "    \n",
    "    #print(\"Confusion Matrix:- \\n{}\" .format(CM_train))\n",
    "    \n",
    "    accuracy = CM_train.diagonal().sum()/CM_train.sum()\n",
    "    precision = CM_train[1][1]/(CM_train[1][1] + CM_train[0][1])\n",
    "    recall = CM_train[1][1]/(CM_train[1][1] + CM_train[1][0])\n",
    "    f_measure = (2*precision*recall)/(precision+recall)\n",
    "    \n",
    "#     print(\"Accuracy:- {}\\nPrecision:- {}\\nRecall:- {}\\nF-measure:- {}\" \\\n",
    "#               .format(accuracy,precision, recall, f_measure))\n",
    "    \n",
    "    return accuracy, precision, recall, f_measure\n",
    "    \n",
    "logistic_prob_path = os.getcwd() + \"/Model Results/Logistic Regression/train Probabilities.csv\"\n",
    "get_predictions(logistic_prob_path)"
   ]
  },
  {
   "cell_type": "code",
   "execution_count": 110,
   "metadata": {},
   "outputs": [
    {
     "data": {
      "text/plain": [
       "(1.0, 0)"
      ]
     },
     "execution_count": 110,
     "metadata": {},
     "output_type": "execute_result"
    }
   ],
   "source": [
    "cut_off = 0\n",
    "best_recall = 0\n",
    "selected_cut_off = ''\n",
    "\n",
    "#Store the results in a data frame\n",
    "cut_off_values, accuracy_values = [], []\n",
    "precision_values, recall_values = [], []\n",
    "f_measure_values = []\n",
    "\n",
    "while cut_off<1:\n",
    "    accuracy, precision, recall, f_measure = get_predictions(logistic_prob_path, \\\n",
    "                                                             cut_off)\n",
    "    cut_off_values.append(cut_off)\n",
    "    accuracy_values.append(accuracy)\n",
    "    precision_values.append(precision)\n",
    "    recall_values.append(recall)\n",
    "    f_measure_values.append(f_measure)\n",
    "    \n",
    "    if(recall >= best_recall):\n",
    "        best_recall = recall\n",
    "        selected_cut_off = cut_off\n",
    "        \n",
    "    cut_off += 0.05   \n",
    "    \n",
    "#Create a data frame of results\n",
    "logistic_results_df = pd.DataFrame({'Probability Cut Off': cut_off_values,\\\n",
    "                                    'Accuracy': accuracy_values, \\\n",
    "                                    'Precision': precision_values,\\\n",
    "                                    'Recall': recall_values,\\\n",
    "                                    'F1 Score': f_measure_values},\\\n",
    "                                  columns = ['Probability Cut Off', 'Accuracy',\n",
    "                                            'Precision', 'Recall', 'F1 Score'])\n",
    "\n",
    "logistic_results_df.to_csv(os.getcwd() + \"/Model Results/Logistic Regression/Results Various Cut Off.csv\")\n",
    "best_recall, selected_cut_off "
   ]
  },
  {
   "cell_type": "code",
   "execution_count": 105,
   "metadata": {},
   "outputs": [
    {
     "data": {
      "text/plain": [
       "(1.0, 0)"
      ]
     },
     "execution_count": 105,
     "metadata": {},
     "output_type": "execute_result"
    }
   ],
   "source": [
    "best_recall, selected_cut_off "
   ]
  },
  {
   "cell_type": "code",
   "execution_count": 82,
   "metadata": {},
   "outputs": [
    {
     "name": "stdout",
     "output_type": "stream",
     "text": [
      "Accuracy:- 0.8499713247944943\n",
      "Precision:- 0.6095477386934673\n",
      "Recall:- 0.2782110091743119\n",
      "F-measure:- 0.38204724409448815\n"
     ]
    }
   ],
   "source": [
    "TN = 42036\n",
    "TP = 2426 \n",
    "FP = 1554\n",
    "FN = 6294\n",
    "recall = TP/(TP+FN)\n",
    "precision = TP/(TP+FP)\n",
    "accuracy = (TP + TN)/(TP + TN + FP + FN)\n",
    "f_measure = 2*precision*recall/(precision+recall)\n",
    "print(\"Accuracy:- {}\\nPrecision:- {}\\nRecall:- {}\\nF-measure:- {}\"\\\n",
    "     .format(accuracy, precsion, recall, f_measure))"
   ]
  },
  {
   "cell_type": "markdown",
   "metadata": {},
   "source": [
    "## SVM"
   ]
  },
  {
   "cell_type": "markdown",
   "metadata": {},
   "source": [
    "### Without binning continuous variables"
   ]
  },
  {
   "cell_type": "code",
   "execution_count": 88,
   "metadata": {
    "collapsed": true
   },
   "outputs": [
    {
     "ename": "AttributeError",
     "evalue": "predict_proba is not available when  probability=False",
     "output_type": "error",
     "traceback": [
      "\u001b[0;31m---------------------------------------------------------------------------\u001b[0m",
      "\u001b[0;31mAttributeError\u001b[0m                            Traceback (most recent call last)",
      "\u001b[0;32m<ipython-input-88-23cb213f855b>\u001b[0m in \u001b[0;36m<module>\u001b[0;34m\u001b[0m\n\u001b[1;32m      2\u001b[0m \u001b[0msvm\u001b[0m \u001b[0;34m=\u001b[0m \u001b[0msvm\u001b[0m\u001b[0;34m.\u001b[0m\u001b[0mSVC\u001b[0m\u001b[0;34m(\u001b[0m\u001b[0;34m)\u001b[0m\u001b[0;34m\u001b[0m\u001b[0;34m\u001b[0m\u001b[0m\n\u001b[1;32m      3\u001b[0m \u001b[0mlogistic_model\u001b[0m \u001b[0;34m=\u001b[0m \u001b[0mModeling\u001b[0m\u001b[0;34m(\u001b[0m\u001b[0mX_train\u001b[0m\u001b[0;34m,\u001b[0m \u001b[0mX_test\u001b[0m\u001b[0;34m,\u001b[0m \u001b[0my_train\u001b[0m\u001b[0;34m,\u001b[0m \u001b[0msvm\u001b[0m\u001b[0;34m,\u001b[0m \u001b[0;34m\"SVM\"\u001b[0m\u001b[0;34m)\u001b[0m\u001b[0;34m\u001b[0m\u001b[0;34m\u001b[0m\u001b[0m\n\u001b[0;32m----> 4\u001b[0;31m \u001b[0mlogistic_model\u001b[0m\u001b[0;34m.\u001b[0m\u001b[0mprediction\u001b[0m\u001b[0;34m(\u001b[0m\u001b[0;34m)\u001b[0m\u001b[0;34m\u001b[0m\u001b[0;34m\u001b[0m\u001b[0m\n\u001b[0m",
      "\u001b[0;32m<ipython-input-83-1159e6b68438>\u001b[0m in \u001b[0;36mprediction\u001b[0;34m(self)\u001b[0m\n\u001b[1;32m     70\u001b[0m \u001b[0;34m\u001b[0m\u001b[0m\n\u001b[1;32m     71\u001b[0m         \u001b[0;31m#Print the AUC_ROC curve\u001b[0m\u001b[0;34m\u001b[0m\u001b[0;34m\u001b[0m\u001b[0;34m\u001b[0m\u001b[0m\n\u001b[0;32m---> 72\u001b[0;31m         \u001b[0mself\u001b[0m\u001b[0;34m.\u001b[0m\u001b[0mauc_roc\u001b[0m\u001b[0;34m(\u001b[0m\u001b[0mself\u001b[0m\u001b[0;34m.\u001b[0m\u001b[0mX_train\u001b[0m\u001b[0;34m,\u001b[0m \u001b[0mself\u001b[0m\u001b[0;34m.\u001b[0m\u001b[0my_train\u001b[0m\u001b[0;34m,\u001b[0m \u001b[0;34m\"train\"\u001b[0m\u001b[0;34m)\u001b[0m\u001b[0;34m\u001b[0m\u001b[0;34m\u001b[0m\u001b[0m\n\u001b[0m\u001b[1;32m     73\u001b[0m         \u001b[0mself\u001b[0m\u001b[0;34m.\u001b[0m\u001b[0mauc_roc\u001b[0m\u001b[0;34m(\u001b[0m\u001b[0mself\u001b[0m\u001b[0;34m.\u001b[0m\u001b[0mX_test\u001b[0m\u001b[0;34m,\u001b[0m \u001b[0;34m''\u001b[0m\u001b[0;34m,\u001b[0m \u001b[0;34m\"test\"\u001b[0m\u001b[0;34m)\u001b[0m\u001b[0;34m\u001b[0m\u001b[0;34m\u001b[0m\u001b[0m\n\u001b[1;32m     74\u001b[0m \u001b[0;34m\u001b[0m\u001b[0m\n",
      "\u001b[0;32m<ipython-input-83-1159e6b68438>\u001b[0m in \u001b[0;36mauc_roc\u001b[0;34m(self, X, y, train_test)\u001b[0m\n\u001b[1;32m     19\u001b[0m \u001b[0;34m\u001b[0m\u001b[0m\n\u001b[1;32m     20\u001b[0m     \u001b[0;32mdef\u001b[0m \u001b[0mauc_roc\u001b[0m\u001b[0;34m(\u001b[0m\u001b[0mself\u001b[0m\u001b[0;34m,\u001b[0m \u001b[0mX\u001b[0m\u001b[0;34m,\u001b[0m \u001b[0my\u001b[0m\u001b[0;34m,\u001b[0m \u001b[0mtrain_test\u001b[0m\u001b[0;34m)\u001b[0m\u001b[0;34m:\u001b[0m\u001b[0;34m\u001b[0m\u001b[0;34m\u001b[0m\u001b[0m\n\u001b[0;32m---> 21\u001b[0;31m         \u001b[0mpredicted_probability\u001b[0m \u001b[0;34m=\u001b[0m \u001b[0mself\u001b[0m\u001b[0;34m.\u001b[0m\u001b[0mmodel\u001b[0m\u001b[0;34m.\u001b[0m\u001b[0mpredict_proba\u001b[0m\u001b[0;34m(\u001b[0m\u001b[0mX\u001b[0m\u001b[0;34m)\u001b[0m\u001b[0;34m\u001b[0m\u001b[0;34m\u001b[0m\u001b[0m\n\u001b[0m\u001b[1;32m     22\u001b[0m \u001b[0;34m\u001b[0m\u001b[0m\n\u001b[1;32m     23\u001b[0m         \u001b[0;31m#Actuals for train data are present--> y_train\u001b[0m\u001b[0;34m\u001b[0m\u001b[0;34m\u001b[0m\u001b[0;34m\u001b[0m\u001b[0m\n",
      "\u001b[0;32m~/anaconda3/lib/python3.6/site-packages/sklearn/svm/_base.py\u001b[0m in \u001b[0;36mpredict_proba\u001b[0;34m(self)\u001b[0m\n\u001b[1;32m    664\u001b[0m         \u001b[0mdatasets\u001b[0m\u001b[0;34m.\u001b[0m\u001b[0;34m\u001b[0m\u001b[0;34m\u001b[0m\u001b[0m\n\u001b[1;32m    665\u001b[0m         \"\"\"\n\u001b[0;32m--> 666\u001b[0;31m         \u001b[0mself\u001b[0m\u001b[0;34m.\u001b[0m\u001b[0m_check_proba\u001b[0m\u001b[0;34m(\u001b[0m\u001b[0;34m)\u001b[0m\u001b[0;34m\u001b[0m\u001b[0;34m\u001b[0m\u001b[0m\n\u001b[0m\u001b[1;32m    667\u001b[0m         \u001b[0;32mreturn\u001b[0m \u001b[0mself\u001b[0m\u001b[0;34m.\u001b[0m\u001b[0m_predict_proba\u001b[0m\u001b[0;34m\u001b[0m\u001b[0;34m\u001b[0m\u001b[0m\n\u001b[1;32m    668\u001b[0m \u001b[0;34m\u001b[0m\u001b[0m\n",
      "\u001b[0;32m~/anaconda3/lib/python3.6/site-packages/sklearn/svm/_base.py\u001b[0m in \u001b[0;36m_check_proba\u001b[0;34m(self)\u001b[0m\n\u001b[1;32m    631\u001b[0m     \u001b[0;32mdef\u001b[0m \u001b[0m_check_proba\u001b[0m\u001b[0;34m(\u001b[0m\u001b[0mself\u001b[0m\u001b[0;34m)\u001b[0m\u001b[0;34m:\u001b[0m\u001b[0;34m\u001b[0m\u001b[0;34m\u001b[0m\u001b[0m\n\u001b[1;32m    632\u001b[0m         \u001b[0;32mif\u001b[0m \u001b[0;32mnot\u001b[0m \u001b[0mself\u001b[0m\u001b[0;34m.\u001b[0m\u001b[0mprobability\u001b[0m\u001b[0;34m:\u001b[0m\u001b[0;34m\u001b[0m\u001b[0;34m\u001b[0m\u001b[0m\n\u001b[0;32m--> 633\u001b[0;31m             raise AttributeError(\"predict_proba is not available when \"\n\u001b[0m\u001b[1;32m    634\u001b[0m                                  \" probability=False\")\n\u001b[1;32m    635\u001b[0m         \u001b[0;32mif\u001b[0m \u001b[0mself\u001b[0m\u001b[0;34m.\u001b[0m\u001b[0m_impl\u001b[0m \u001b[0;32mnot\u001b[0m \u001b[0;32min\u001b[0m \u001b[0;34m(\u001b[0m\u001b[0;34m'c_svc'\u001b[0m\u001b[0;34m,\u001b[0m \u001b[0;34m'nu_svc'\u001b[0m\u001b[0;34m)\u001b[0m\u001b[0;34m:\u001b[0m\u001b[0;34m\u001b[0m\u001b[0;34m\u001b[0m\u001b[0m\n",
      "\u001b[0;31mAttributeError\u001b[0m: predict_proba is not available when  probability=False"
     ]
    }
   ],
   "source": [
    "#X_train, X_test, y_train, model, name_of_classifier)\n",
    "'''\n",
    "svm = svm.SVC()\n",
    "logistic_model = Modeling(X_train, X_test, y_train, svm, \"SVM\")\n",
    "logistic_model.prediction()\n",
    "'''"
   ]
  },
  {
   "cell_type": "markdown",
   "metadata": {},
   "source": [
    "## Decision Tree"
   ]
  },
  {
   "cell_type": "raw",
   "metadata": {},
   "source": [
    "criterion: 'entropy', 'GINI'\n",
    "min_sample_leaf:- \n",
    "max_depth:- \n",
    "min_samples:- \n",
    "max_features:-\n"
   ]
  },
  {
   "cell_type": "code",
   "execution_count": 89,
   "metadata": {},
   "outputs": [
    {
     "data": {
      "image/png": "[encoded data removed]",
      "text/plain": [
       "<Figure size 432x288 with 1 Axes>"
      ]
     },
     "metadata": {
      "needs_background": "light"
     },
     "output_type": "display_data"
    },
    {
     "name": "stdout",
     "output_type": "stream",
     "text": [
      "train Data\n",
      "[[43446   144]\n",
      " [  165  8555]]\n",
      "Accuracy:- 0.9940929076658382\n",
      "Precision:- 0.9834463731463386\n",
      "Recall:- 0.9810779816513762\n",
      "F-measure:- 0.9822607497560136\n"
     ]
    }
   ],
   "source": [
    "#X_train, X_test, y_train, model, name_of_classifier)\n",
    "dtc = DTC()\n",
    "decision_tree_model = Modeling(X_train, X_test, y_train, dtc, \"DTC\")\n",
    "decision_tree_model.prediction()"
   ]
  },
  {
   "cell_type": "markdown",
   "metadata": {},
   "source": [
    "### Hyperparameter Tuning"
   ]
  },
  {
   "cell_type": "code",
   "execution_count": 91,
   "metadata": {},
   "outputs": [],
   "source": [
    "def hyper_para_tuning(X, y, param_grid, model_obj, scoring_fun='f1_macro'):\n",
    "    #Calculate the execution time\n",
    "    start_time = timeit.time.time()\n",
    "    \n",
    "    grid = GCV(model_obj, param_grid, cv=5, n_jobs=1, scoring=scoring_fun)\n",
    "    grid.fit(X, y)\n",
    "    \n",
    "    end_time = timeit.time.time()\n",
    "    print(\"Execution time in minutes:- %.2f\" %((end_time-start_time)/60))\n",
    "    \n",
    "    #Best parameters\n",
    "    print(\"Best set of parameters:- {}\\nBest Score:- {}\" \\\n",
    "         .format(grid.best_estimator_, grid.best_score_))"
   ]
  },
  {
   "cell_type": "code",
   "execution_count": null,
   "metadata": {},
   "outputs": [],
   "source": [
    "#Parameter Grid\n",
    "param_grid = {\"criterion\": ['gini', 'entropy'],\\\n",
    "             \"max_depth\": list(range(1, 11)), \\\n",
    "             \"min_samples_split\": [2, 3, ]}"
   ]
  }
 ],
 "metadata": {
  "kernelspec": {
   "display_name": "Python 3",
   "language": "python",
   "name": "python3"
  },
  "language_info": {
   "codemirror_mode": {
    "name": "ipython",
    "version": 3
   },
   "file_extension": ".py",
   "mimetype": "text/x-python",
   "name": "python",
   "nbconvert_exporter": "python",
   "pygments_lexer": "ipython3",
   "version": "3.6.13"
  }
 },
 "nbformat": 4,
 "nbformat_minor": 2
}
